{
 "cells": [
  {
   "cell_type": "code",
   "execution_count": 1,
   "metadata": {},
   "outputs": [],
   "source": [
    "# Initial import process\n",
    "import os, csv"
   ]
  },
  {
   "cell_type": "code",
   "execution_count": 2,
   "metadata": {},
   "outputs": [],
   "source": [
    "# Set up variables\n",
    "total_months = 0\n",
    "net_pl = 0\n",
    "monthly_change = []\n",
    "month_count = []\n",
    "max_increase = 0\n",
    "max_increase_month = 0\n",
    "max_decrease = 0\n",
    "max_decrease_month = 0"
   ]
  },
  {
   "cell_type": "code",
   "execution_count": 3,
   "metadata": {},
   "outputs": [],
   "source": [
    "# Open/Read CSV, read header (skip if none)\n",
    "\n",
    "with open('budget_data.csv') as file:\n",
    "    csvreader = csv.reader(file, delimiter=',')\n",
    "    csv_header = next(csvreader)\n",
    "    row = next(csvreader)\n",
    "        \n",
    "    # Calc total months, net p&l, and greatest deltas\n",
    "    prev_row = int(row[1])\n",
    "    total_months += 1\n",
    "    net_pl += int(row[1])\n",
    "    max_increase = int(row[1])\n",
    "    max_increase_month = row[0]\n",
    "\n",
    "    # Read each successive row after header row\n",
    "    for row in csvreader:\n",
    "        \n",
    "        # Calc total months\n",
    "        total_months += 1\n",
    "        \n",
    "        # Calc net p&l over time\n",
    "        net_pl += int(row[1])\n",
    "\n",
    "        # Calculate month-over-month delta\n",
    "        rev_change = int(row[1]) - prev_row\n",
    "        monthly_change.append(rev_change)\n",
    "        prev_row = int(row[1])\n",
    "        month_count.append(row[0])\n",
    "\n",
    "        # Calculate biggest uptick\n",
    "        if int(row[1]) > max_increase:\n",
    "            max_increase = int(row[1])\n",
    "            max_increase_month = row[0]\n",
    "\n",
    "        # Calculate biggest dip\n",
    "        if int(row[1]) < max_decrease:\n",
    "            max_decrease = int(row[1])\n",
    "            max_decrease_month = row[0]\n",
    "            \n",
    "        # Calculate avg, high, low monthly changes\n",
    "        avg_change = sum(monthly_change)/ len(monthly_change)\n",
    "        high = max(monthly_change)\n",
    "        low = min(monthly_change) "
   ]
  },
  {
   "cell_type": "code",
   "execution_count": 4,
   "metadata": {},
   "outputs": [
    {
     "name": "stdout",
     "output_type": "stream",
     "text": [
      "Financial Analysis\n",
      "___________________\n",
      "Total Months: 86\n",
      "Total P&L: $38382578\n",
      "Avg. Change: $-2315.12\n",
      "Best Increase (+) in Profits:, Feb-2012, ($1926159)\n",
      "Worst Decrease (-) in Profits:, Sep-2013, ($-2196167)\n"
     ]
    }
   ],
   "source": [
    "# Print Analysis\n",
    "print(f\"Financial Analysis\")\n",
    "print(f\"___________________\")\n",
    "print(f\"Total Months: {total_months}\")\n",
    "print(f\"Total P&L: ${net_pl}\")\n",
    "print(f\"Avg. Change: ${avg_change:.2f}\")\n",
    "print(f\"Best Increase (+) in Profits:, {max_increase_month}, (${high})\")\n",
    "print(f\"Worst Decrease (-) in Profits:, {max_decrease_month}, (${low})\")"
   ]
  },
  {
   "cell_type": "code",
   "execution_count": 5,
   "metadata": {},
   "outputs": [],
   "source": [
    "# Translate to txt file\n",
    "f = open(\"financial_analysis_pybank_jc.txt\", \"w\")\n",
    "f.write(\"Financial Analysis\\n\")\n",
    "f.write(\"__________________\\n\")        \n",
    "f.write(\"Total Months: \" + str(total_months) + \"\\n\")\n",
    "f.write(\"Total: $\" + str(net_pl) + \"\\n\")\n",
    "f.write(\"Average Change: $\" + str(format(avg_change, '.2f')) + \"\\n\")\n",
    "f.write(\"Greatest Increase in Profits: \" + max_increase_month \n",
    "      + \" ($\" + str(max_increase) + \")\\n\")\n",
    "f.write(\"Greatest Decrease in Profits: \" + max_decrease_month \n",
    "      + \" ($\" + str(max_decrease) + \")\\n\")\n",
    "f.close()"
   ]
  },
  {
   "cell_type": "code",
   "execution_count": null,
   "metadata": {},
   "outputs": [],
   "source": []
  }
 ],
 "metadata": {
  "kernelspec": {
   "display_name": "Python 3",
   "language": "python",
   "name": "python3"
  },
  "language_info": {
   "codemirror_mode": {
    "name": "ipython",
    "version": 3
   },
   "file_extension": ".py",
   "mimetype": "text/x-python",
   "name": "python",
   "nbconvert_exporter": "python",
   "pygments_lexer": "ipython3",
   "version": "3.7.4"
  }
 },
 "nbformat": 4,
 "nbformat_minor": 2
}
