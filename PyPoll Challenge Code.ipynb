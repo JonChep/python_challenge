{
 "cells": [
  {
   "cell_type": "code",
   "execution_count": 1,
   "metadata": {},
   "outputs": [],
   "source": [
    "# Import set-up\n",
    "import os, csv"
   ]
  },
  {
   "cell_type": "code",
   "execution_count": 2,
   "metadata": {},
   "outputs": [],
   "source": [
    "# Establish variables\n",
    "total_votes = 0\n",
    "candidate = \"\"\n",
    "candidates_list = []\n",
    "votes_list = []\n",
    "pct_list = []\n",
    "electee = \"\""
   ]
  },
  {
   "cell_type": "code",
   "execution_count": 3,
   "metadata": {},
   "outputs": [],
   "source": [
    "# Open csv file\n",
    "with open(\"election_data.csv\") as csvfile:\n",
    "    csvreader = csv.reader(csvfile, delimiter=\",\")\n",
    "    \n",
    "    # Read header\n",
    "    csv_header = next(csvreader)\n",
    "    \n",
    "    # Read each subsequent row\n",
    "    for row in csvreader:\n",
    "        \n",
    "        # Count total votes per candidate\n",
    "        total_votes += 1\n",
    "        \n",
    "        if row[2] not in candidates_list:\n",
    "            candidates_list.append(row[2])\n",
    "            votes_list.append(1)\n",
    "        else:\n",
    "            votes_list[candidates_list.index(row[2])] += 1\n",
    "\n",
    "# Calc vote%           \n",
    "pct_list = [(100/total_votes) * x for x in votes_list]\n",
    "\n",
    "# Determine election winner\n",
    "electee = candidates_list[votes_list.index(max(votes_list))]"
   ]
  },
  {
   "cell_type": "code",
   "execution_count": 4,
   "metadata": {},
   "outputs": [],
   "source": [
    "# Translate to txt file\n",
    "f = open(\"election_results.txt\", \"w\")\n",
    "\n",
    "f.write(\"Election Results\\n\")\n",
    "f.write(\"________________\\n\")\n",
    "f.write(\"Total Votes: \" + str(total_votes) + \"\\n\")\n",
    "\n",
    "for x in candidates_list:\n",
    "    f.write(x + \": \" + str(format(pct_list[candidates_list.index(x)], '.3f')) \n",
    "        + \"% (\" + str(votes_list[candidates_list.index(x)]) + \")\\n\")\n",
    "    \n",
    "f.write(\"________________\\n\")\n",
    "f.write(\"Winner: \" + electee + \"\\n\")\n",
    "f.write(\"________________\\n\")\n",
    "\n",
    "f.close()"
   ]
  },
  {
   "cell_type": "code",
   "execution_count": null,
   "metadata": {},
   "outputs": [],
   "source": []
  }
 ],
 "metadata": {
  "kernelspec": {
   "display_name": "Python 3",
   "language": "python",
   "name": "python3"
  },
  "language_info": {
   "codemirror_mode": {
    "name": "ipython",
    "version": 3
   },
   "file_extension": ".py",
   "mimetype": "text/x-python",
   "name": "python",
   "nbconvert_exporter": "python",
   "pygments_lexer": "ipython3",
   "version": "3.7.4"
  }
 },
 "nbformat": 4,
 "nbformat_minor": 2
}
